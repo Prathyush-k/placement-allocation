{
 "cells": [
  {
   "cell_type": "code",
   "execution_count": 1,
   "metadata": {},
   "outputs": [],
   "source": [
    "import pandas as pd\n",
    "import tkinter\n",
    "from tkinter import *\n",
    "from tkinter import messagebox\n",
    "\n",
    "import os\n",
    "from tkinter.filedialog import askopenfilename"
   ]
  },
  {
   "cell_type": "code",
   "execution_count": 2,
   "metadata": {},
   "outputs": [],
   "source": [
    "pd.options.mode.chained_assignment = None  # default='warn'"
   ]
  },
  {
   "cell_type": "code",
   "execution_count": 3,
   "metadata": {},
   "outputs": [
    {
     "name": "stdout",
     "output_type": "stream",
     "text": [
      "['Total Database 2018- 19.xlsx'] ['Day-1 Sharing Preferences.xlsx'] []\n"
     ]
    }
   ],
   "source": [
    "base = tkinter.Tk()\n",
    "\n",
    "\n",
    "base.geometry('340x200')\n",
    "#base.title('ANPR')        \n",
    "\n",
    "\n",
    "\n",
    "master_file=[]\n",
    "preferences=[]\n",
    "company=[]\n",
    "\n",
    "def paths(x,condition):\n",
    "        if condition=='master':\n",
    "            if len(master_file) == 1:\n",
    "                master_file.pop()\n",
    "            master_file.append(x)\n",
    "        if condition == 'Preference':\n",
    "            if len(preferences) == 1:\n",
    "                preferences.pop()\n",
    "            preferences.append(x)\n",
    "        if condition == 'company':\n",
    "            company.append(x)\n",
    "\n",
    "    \n",
    "def open_file(condition):\n",
    "    y = askopenfilename()\n",
    "    x=os.path.basename(y)\n",
    "    paths(x,condition)\n",
    "\n",
    "class mp:\n",
    "    \n",
    "    \n",
    "    \n",
    "    def __init__ (self,master):\n",
    "        \n",
    "        \n",
    "       \n",
    "        \n",
    "        theLabel =Label(text = \"Placement\")\n",
    "        theLabel.grid(row=0,column=3,sticky=NSEW)\n",
    "        \n",
    "       \n",
    "        self.button1 = Button(text=\"Add Master\",bg=\"light blue\",command= lambda: open_file('master'))\n",
    "        self.button1.grid(row=2,column=1,sticky=NSEW)\n",
    "\n",
    "        self.preference = Button(text=\"Add Preferences\",bg=\"light blue\",command= lambda:open_file('Preference'))\n",
    "        self.preference.grid(row=2,column=3,sticky=NSEW)\n",
    "        \n",
    "        self.company = Button(text=\"Add company files\",bg=\"light blue\",command= lambda:open_file('company'))\n",
    "        self.company.grid(row=2,column=5,sticky=NSEW)\n",
    "        \n",
    "        self.label1=Label(text=\" \")\n",
    "        self.label1.grid(row=3)\n",
    "        \n",
    "        self.label2=Label(text=\"    \")\n",
    "        self.label2.grid(row=2,column=2)\n",
    "        \n",
    "        self.label3=Label(text=\"    \")\n",
    "        self.label3.grid(row=2,column=4)\n",
    "        \n",
    "        self.label4=Label(text=\" \")\n",
    "        self.label4.grid(row=1)\n",
    "        \n",
    "        self.download = Button(text=\"download final\",bg=\"light blue\")\n",
    "        self.download.grid(row=4,column=3,sticky=NSEW)\n",
    "\n",
    "        \n",
    "blank = tkinter.Label(base)\n",
    "blank.grid(row=2,)\n",
    "\n",
    "ob = mp(base)\n",
    "\n",
    "base.mainloop() \n",
    "print(master_file,preferences,company)\n",
    "\n",
    "\n"
   ]
  },
  {
   "cell_type": "code",
   "execution_count": null,
   "metadata": {},
   "outputs": [],
   "source": []
  },
  {
   "cell_type": "code",
   "execution_count": 4,
   "metadata": {},
   "outputs": [],
   "source": [
    "for file in master_file:\n",
    "    student_info=pd.read_excel(file)\n",
    "for file in preferences:\n",
    "    preferences=pd.read_excel(file)\n",
    "\n",
    "### modification needed\n",
    "#for file in company:\n",
    "Capgemini=pd.read_excel(\"Capgemini Results 10.09.2018.xlsx\")\n",
    "Infosys=pd.read_excel(\"Final selects-Infosys Ltd.xlsx\")\n",
    "CTS=pd.read_excel(\"CTS 2019 Batch CBIT Selects.xlsx\")\n"
   ]
  },
  {
   "cell_type": "code",
   "execution_count": 5,
   "metadata": {
    "scrolled": true
   },
   "outputs": [],
   "source": [
    "student_info.set_index('Roll.No.',inplace=True)\n",
    "Capgemini.set_index('Roll Number',inplace=True)\n",
    "Infosys.set_index('Roll No.',inplace=True)\n",
    "CTS.set_index('Current University Reg No',inplace=True)\n",
    "preferences.set_index('Roll No.',inplace=True)"
   ]
  },
  {
   "cell_type": "code",
   "execution_count": 6,
   "metadata": {},
   "outputs": [],
   "source": [
    "for roll in student_info.index:\n",
    "    if type(roll)== str and '-' in roll:\n",
    "        roll_split=roll.split('-')\n",
    "        modified_roll=''\n",
    "        for i in roll_split:\n",
    "            modified_roll+=i\n",
    "        modified_roll=int(modified_roll)\n",
    "        student_info=student_info.rename({roll: modified_roll})"
   ]
  },
  {
   "cell_type": "code",
   "execution_count": 7,
   "metadata": {
    "scrolled": true
   },
   "outputs": [],
   "source": [
    "preferences=preferences.groupby(level=0).first()"
   ]
  },
  {
   "cell_type": "code",
   "execution_count": 8,
   "metadata": {},
   "outputs": [],
   "source": [
    "first_preference = (preferences.index)"
   ]
  },
  {
   "cell_type": "code",
   "execution_count": 9,
   "metadata": {},
   "outputs": [],
   "source": [
    "## converting '1601-##-###-###' to 1601########\n",
    "for roll in first_preference:\n",
    "    if type(roll)== str and '-' in roll:\n",
    "        roll_split=roll.split('-')\n",
    "        modified_roll=''\n",
    "        for i in roll_split:\n",
    "            modified_roll+=i\n",
    "        modified_roll=int(modified_roll)\n",
    "        preferences=preferences.rename({roll: modified_roll})"
   ]
  },
  {
   "cell_type": "code",
   "execution_count": 10,
   "metadata": {},
   "outputs": [],
   "source": [
    "first_preference = preferences.index"
   ]
  },
  {
   "cell_type": "code",
   "execution_count": 11,
   "metadata": {
    "scrolled": true
   },
   "outputs": [
    {
     "data": {
      "text/plain": [
       "['Preference-1', 'Preference-2', 'Preference-3']"
      ]
     },
     "execution_count": 11,
     "metadata": {},
     "output_type": "execute_result"
    }
   ],
   "source": [
    "preferences_list=[]\n",
    "for column in preferences.columns:\n",
    "    if \"Preference\" in column:\n",
    "        preferences_list.append(column)\n",
    "        \n",
    "preferences_list"
   ]
  },
  {
   "cell_type": "code",
   "execution_count": 12,
   "metadata": {},
   "outputs": [],
   "source": [
    "total_companies=[]\n",
    "for i in preferences_list:\n",
    "    total_companies.append(preferences[i][0])"
   ]
  },
  {
   "cell_type": "code",
   "execution_count": 13,
   "metadata": {},
   "outputs": [],
   "source": [
    "company_files={}\n",
    "company_files['Capgemini']=Capgemini\n",
    "company_files['Cognizant']=CTS\n",
    "company_files['Infosys']=Infosys"
   ]
  },
  {
   "cell_type": "code",
   "execution_count": 14,
   "metadata": {
    "scrolled": true
   },
   "outputs": [],
   "source": [
    "final_lists={}\n",
    "for company in total_companies:\n",
    "    final_lists[company]=[]\n",
    "for roll in first_preference:\n",
    "    count=0\n",
    "    for preference_order in preferences_list:\n",
    "        for company in total_companies:\n",
    "            if preferences[preference_order][roll] == company and roll in company_files[company].index:\n",
    "                    final_lists[company].append(roll)\n",
    "                    count=1\n",
    "                    break\n",
    "        if count==1:\n",
    "            break"
   ]
  },
  {
   "cell_type": "code",
   "execution_count": 15,
   "metadata": {},
   "outputs": [
    {
     "name": "stdout",
     "output_type": "stream",
     "text": [
      "96\n",
      "187\n",
      "31\n"
     ]
    }
   ],
   "source": [
    "for i in total_companies:\n",
    "    print(len(final_lists[i]))"
   ]
  },
  {
   "cell_type": "code",
   "execution_count": null,
   "metadata": {},
   "outputs": [],
   "source": []
  }
 ],
 "metadata": {
  "kernelspec": {
   "display_name": "Python 3",
   "language": "python",
   "name": "python3"
  },
  "language_info": {
   "codemirror_mode": {
    "name": "ipython",
    "version": 3
   },
   "file_extension": ".py",
   "mimetype": "text/x-python",
   "name": "python",
   "nbconvert_exporter": "python",
   "pygments_lexer": "ipython3",
   "version": "3.6.5"
  }
 },
 "nbformat": 4,
 "nbformat_minor": 2
}
