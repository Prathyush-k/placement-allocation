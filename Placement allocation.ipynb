{
 "cells": [
  {
   "cell_type": "code",
   "execution_count": 1,
   "metadata": {},
   "outputs": [],
   "source": [
    "import pandas as pd"
   ]
  },
  {
   "cell_type": "code",
   "execution_count": 2,
   "metadata": {},
   "outputs": [],
   "source": [
    "student_info=pd.read_excel(\"Total.xlsx\")\n",
    "Capgemini=pd.read_excel(\"Capgemini Results 10.09.2018.xlsx\")\n",
    "Infosys=pd.read_excel(\"Final selects-Infosys Ltd.xlsx\")\n",
    "CTS=pd.read_excel(\"CTS 2019 Batch CBIT Selects.xlsx\")\n",
    "preferences=pd.read_excel(\"Day-1 Sharing Preferences.xlsx\")"
   ]
  },
  {
   "cell_type": "code",
   "execution_count": 3,
   "metadata": {
    "scrolled": true
   },
   "outputs": [],
   "source": [
    "student_info.set_index('Roll.No.',inplace=True)\n",
    "Capgemini.set_index('Roll Number',inplace=True)\n",
    "Infosys.set_index('Roll No.',inplace=True)\n",
    "CTS.set_index('Current University Reg No',inplace=True)\n",
    "preferences.set_index('Roll No.',inplace=True)\n"
   ]
  },
  {
   "cell_type": "code",
   "execution_count": 4,
   "metadata": {},
   "outputs": [],
   "source": [
    "final_Infosys=[]\n",
    "final_Capgemini=[]\n",
    "final_CTS=[]"
   ]
  },
  {
   "cell_type": "code",
   "execution_count": 5,
   "metadata": {
    "scrolled": true
   },
   "outputs": [],
   "source": [
    "preferences=preferences.groupby(level=0).first()"
   ]
  },
  {
   "cell_type": "code",
   "execution_count": 6,
   "metadata": {},
   "outputs": [],
   "source": [
    "first_preference = (preferences.index)"
   ]
  },
  {
   "cell_type": "code",
   "execution_count": 7,
   "metadata": {},
   "outputs": [],
   "source": [
    "## converting '1601-##-###-###' to 1601########\n",
    "for roll in first_preference:\n",
    "    if type(roll)== str and '-' in roll:\n",
    "        roll_split=roll.split('-')\n",
    "        modified_roll=''\n",
    "        for i in roll_split:\n",
    "            modified_roll+=i\n",
    "        modified_roll=int(modified_roll)\n",
    "        preferences=preferences.rename({roll: modified_roll})"
   ]
  },
  {
   "cell_type": "code",
   "execution_count": 8,
   "metadata": {},
   "outputs": [],
   "source": [
    "first_preference = preferences.index"
   ]
  },
  {
   "cell_type": "code",
   "execution_count": 9,
   "metadata": {
    "scrolled": true
   },
   "outputs": [],
   "source": [
    "for roll in first_preference:\n",
    "    if preferences['Preference-1'][roll] == 'Infosys':\n",
    "        if roll in Infosys.index:\n",
    "            final_Infosys.append(roll)\n",
    "    elif preferences['Preference-1'][roll] == 'Cognizant':\n",
    "        if roll in CTS.index:\n",
    "            final_CTS.append(roll)\n",
    "    elif preferences['Preference-1'][roll] == 'Capgemini':\n",
    "        if roll in Capgemini.index:\n",
    "            final_Capgemini.append(roll)"
   ]
  },
  {
   "cell_type": "code",
   "execution_count": 10,
   "metadata": {},
   "outputs": [],
   "source": [
    "second_preference= [roll for roll in first_preference if roll not in final_CTS and roll not in final_Capgemini and roll not in final_Infosys]"
   ]
  },
  {
   "cell_type": "code",
   "execution_count": 11,
   "metadata": {},
   "outputs": [],
   "source": [
    "for roll in second_preference:\n",
    "    if preferences['Preference-2'][roll] == 'Infosys':\n",
    "        if roll in Infosys.index:\n",
    "            final_Infosys.append(roll)\n",
    "    elif preferences['Preference-2'][roll] == 'Cognizant':\n",
    "        if roll in CTS.index:\n",
    "            final_CTS.append(roll)\n",
    "    elif preferences['Preference-2'][roll] == 'Capgemini':\n",
    "        if roll in Capgemini.index:\n",
    "            final_Capgemini.append(roll)"
   ]
  },
  {
   "cell_type": "code",
   "execution_count": 12,
   "metadata": {},
   "outputs": [],
   "source": [
    "third_preference=[roll for roll in second_preference if roll not in final_CTS and roll not in final_Capgemini and roll not in final_Infosys]"
   ]
  },
  {
   "cell_type": "code",
   "execution_count": 13,
   "metadata": {},
   "outputs": [],
   "source": [
    "for roll in third_preference:\n",
    "    if preferences['Preference-3'][roll] == 'Infosys':\n",
    "        if roll in Infosys.index:\n",
    "            final_Infosys.append(roll)\n",
    "    elif preferences['Preference-3'][roll] == 'Cognizant':\n",
    "        if roll in CTS.index:\n",
    "            final_CTS.append(roll)\n",
    "    elif preferences['Preference-3'][roll] == 'Capgemini':\n",
    "        if roll in Capgemini.index:\n",
    "            final_Capgemini.append(roll)"
   ]
  },
  {
   "cell_type": "code",
   "execution_count": null,
   "metadata": {},
   "outputs": [],
   "source": []
  },
  {
   "cell_type": "code",
   "execution_count": 14,
   "metadata": {},
   "outputs": [],
   "source": [
    "not_placed=[roll for roll in third_preference if roll not in final_CTS and roll not in final_Capgemini and roll not in final_Infosys]"
   ]
  },
  {
   "cell_type": "code",
   "execution_count": null,
   "metadata": {},
   "outputs": [],
   "source": [
    "columns=[\n",
    "    'Full Name','Branch','Email ID','Mobile No.','BE Gpa'\n",
    "]\n",
    "Infosys_final=pd.DataFrame(columns=columns,index=Infosys)\n",
    "for roll in Infosys_final.index:\n",
    "    if roll in student_info.index:\n",
    "        name=student_info.loc[roll][1]\n",
    "        branch=student_info.loc[roll][2]\n",
    "        email=student_info.loc[roll][2]\n",
    "        mob=student_info.loc[roll][4]\n",
    "        gpa=student_info.loc[roll][8]\n",
    "        Infosys_final.loc[roll]=[name,branch,email,mob,gpa]\n",
    "Cognizant_final=pd.DataFrame(columns=columns,index=Cognizant)\n",
    "for roll in Cognizant_final.index:\n",
    "    if roll in student_info.index:\n",
    "        name=student_info.loc[roll][1]\n",
    "        branch=student_info.loc[roll][2]\n",
    "        email=student_info.loc[roll][2]\n",
    "        mob=student_info.loc[roll][4]\n",
    "        gpa=student_info.loc[roll][8]\n",
    "        Cognizant_final.loc[roll]=[name,branch,email,mob,gpa]\n",
    "Capgemini_final=pd.DataFrame(columns=columns,index=Capgemini)\n",
    "for roll in Capgemini_final.index:\n",
    "    if roll in student_info.index:\n",
    "        name=student_info.loc[roll][1]\n",
    "        branch=student_info.loc[roll][2]\n",
    "        email=student_info.loc[roll][2]\n",
    "        mob=student_info.loc[roll][4]\n",
    "        gpa=student_info.loc[roll][8]\n",
    "        Capgemini_final.loc[roll]=[name,branch,email,mob,gpa]"
   ]
  },
  {
   "cell_type": "code",
   "execution_count": null,
   "metadata": {},
   "outputs": [],
   "source": [
    "#company wise xlsx files..\n",
    "Capgemini_final.to_excel()\n",
    "Infosys_final.to_excel()\n",
    "Cognizant_final.to_excel() "
   ]
  },
  {
   "cell_type": "code",
   "execution_count": null,
   "metadata": {},
   "outputs": [],
   "source": [
    "inf_add=[]\n",
    "cap_add=[]\n",
    "cog_add=[]\n",
    "for i in Infosys_final.index:\n",
    "    inf_add.append(\"Infosys\")\n",
    "for i in Capgemini_final.index:\n",
    "    cap_add.append(\"Capgemini\")\n",
    "for i in Cognizant_final.index:\n",
    "    cog_add.append(\"Cognizant\")"
   ]
  },
  {
   "cell_type": "code",
   "execution_count": null,
   "metadata": {},
   "outputs": [],
   "source": [
    "Infosys_f=Infosys_final\n",
    "Capgemini_f=Capgemini_final\n",
    "Cognizant_f=Cognizant_final\n",
    "Infosys_f['Company']=pd.Series(inf_add,index=Infosys_f.index)\n",
    "Capgemini_f['Company']=pd.Series(cap_add,index=Capgemini_f.index)\n",
    "Cognizant_f['Company']=pd.Series(cog_add,index=Cognizant_f.index)\n",
    "Placed_student_list=pd.DataFrame()\n",
    "Placed_student_list=Placed_student_list.append(Infosys_f)\n",
    "Placed_student_list=Placed_student_list.append(Capgemini_f)\n",
    "Placed_student_list=Placed_student_list.append(Cognizant_f)"
   ]
  },
  {
   "cell_type": "code",
   "execution_count": null,
   "metadata": {},
   "outputs": [],
   "source": [
    "#Placed Students list...\n",
    "Placed_student_list.to_excel()"
   ]
  }
 ],
 "metadata": {
  "kernelspec": {
   "display_name": "Python 3",
   "language": "python",
   "name": "python3"
  },
  "language_info": {
   "codemirror_mode": {
    "name": "ipython",
    "version": 3
   },
   "file_extension": ".py",
   "mimetype": "text/x-python",
   "name": "python",
   "nbconvert_exporter": "python",
   "pygments_lexer": "ipython3",
   "version": "3.6.5"
  }
 },
 "nbformat": 4,
 "nbformat_minor": 2
}
